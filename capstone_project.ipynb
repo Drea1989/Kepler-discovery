{
 "cells": [
  {
   "cell_type": "markdown",
   "metadata": {},
   "source": [
    "# Machine Learning Engineer Nanodegree\n",
    "## Capstone Project\n",
    "## Project: The Search for New Earths"
   ]
  },
  {
   "cell_type": "markdown",
   "metadata": {},
   "source": [
    "This project analyses the data observed by the NASA Kepler space telescope searching for exoplanets using the transit technique.  \n",
    "planets themselves do not emit light, but the stars that they orbit do. If said star is watched over several months or years, there may be a regular 'dimming' of the flux (the light intensity). This is evidence that there may be an orbiting body around the star; such a star could be considered to be a 'candidate' system.\n",
    "NASA itself utilises python to interpret the data and has created PyKE, a library for data reduction to help with extraction and preprocessing of the light curve images, however this project analyses only FLUX data, not pictures.\n",
    "Some of the machine learning techniques already been used by developers are 1-D CNN, XGBoosting, PCA."
   ]
  },
  {
   "cell_type": "markdown",
   "metadata": {},
   "source": [
    "## Getting Started\n",
    "Loading the dataset"
   ]
  },
  {
   "cell_type": "code",
   "execution_count": 1,
   "metadata": {
    "collapsed": false
   },
   "outputs": [
    {
     "name": "stdout",
     "output_type": "stream",
     "text": [
      "Libraries imported successfully\n"
     ]
    }
   ],
   "source": [
    "# Import libraries necessary for this project\n",
    "import numpy as np\n",
    "import pandas as pd\n",
    "from IPython.display import display # Allows the use of display() for DataFrames\n",
    "import os\n",
    "import matplotlib.pyplot as plt\n",
    "import seaborn as sns\n",
    "import pickle\n",
    "from time import time\n",
    "import scipy\n",
    "import matplotlib.patches as mpatches\n",
    "from sklearn.metrics import fbeta_score, accuracy_score\n",
    "from sklearn.decomposition import PCA\n",
    "from sklearn.preprocessing import normalize\n",
    "import helper as hp\n",
    "# Pretty display for notebooks\n",
    "%matplotlib inline\n",
    "print \"Libraries imported successfully\""
   ]
  },
  {
   "cell_type": "code",
   "execution_count": 2,
   "metadata": {
    "collapsed": false
   },
   "outputs": [
    {
     "name": "stdout",
     "output_type": "stream",
     "text": [
      "kepler dataset has 5087 samples with 3198 features each.\n"
     ]
    }
   ],
   "source": [
    "# Load the kepler training dataset\n",
    "try:\n",
    "    data = pd.read_csv(os.path.join(\"project_dataset\", 'exoTrain.csv'),index_col=0)\n",
    "    print \"kepler dataset has {} samples with {} features each.\".format(*data.shape)\n",
    "except:\n",
    "    print \"Dataset could not be loaded. Is the dataset missing?\""
   ]
  },
  {
   "cell_type": "markdown",
   "metadata": {},
   "source": [
    "## Data Exploration\n",
    "the author of the database labelled with 1 no exoplanet system and 2 exoplanet system"
   ]
  },
  {
   "cell_type": "code",
   "execution_count": 3,
   "metadata": {
    "collapsed": false
   },
   "outputs": [],
   "source": [
    "#create label array and drop it from features\n",
    "labels = data.LABEL\n",
    "#labels = [1 if x == 2 else 0 for x in labels]\n",
    "labels.replace(1,0, inplace=True)\n",
    "labels.replace(2,1, inplace=True)\n",
    "data.drop('LABEL',axis=1, inplace =True)"
   ]
  },
  {
   "cell_type": "code",
   "execution_count": null,
   "metadata": {
    "collapsed": false
   },
   "outputs": [],
   "source": [
    "# Display a description of the dataset\n",
    "display(data.describe())"
   ]
  },
  {
   "cell_type": "markdown",
   "metadata": {},
   "source": [
    "### Data Analysis on Exoplanet data\n",
    "i will select the data from class 2 and explore it in more detail"
   ]
  },
  {
   "cell_type": "code",
   "execution_count": null,
   "metadata": {
    "collapsed": false
   },
   "outputs": [],
   "source": [
    "# Create a DataFrame of the chosen samples\n",
    "samples = pd.DataFrame(data[labels == 1], columns = data.keys()).reset_index(drop = True)\n",
    "#print \"Chosen samples of systems dataset:\"\n",
    "#display(samples.head())"
   ]
  },
  {
   "cell_type": "markdown",
   "metadata": {},
   "source": [
    "### visualization of luminosity on time series\n",
    "#### note\n",
    "some system have strong drops in luminescence, this systems must have a big or close planet orbiting it, this makes this type of system easier to diferenciate from the non exo-systems, i will analyse more in details the ones where there is less clarity.\n",
    "\n",
    "## normalisation\n",
    "i will normalise the distribution of the data using the (Xi - mean) / std"
   ]
  },
  {
   "cell_type": "code",
   "execution_count": 18,
   "metadata": {
    "collapsed": false
   },
   "outputs": [
    {
     "data": {
      "text/html": [
       "<div>\n",
       "<table border=\"1\" class=\"dataframe\">\n",
       "  <thead>\n",
       "    <tr style=\"text-align: right;\">\n",
       "      <th></th>\n",
       "      <th>FLUX-1</th>\n",
       "      <th>FLUX-2</th>\n",
       "      <th>FLUX-3</th>\n",
       "      <th>FLUX-4</th>\n",
       "      <th>FLUX-5</th>\n",
       "      <th>FLUX-6</th>\n",
       "      <th>FLUX-7</th>\n",
       "      <th>FLUX-8</th>\n",
       "      <th>FLUX-9</th>\n",
       "      <th>FLUX-10</th>\n",
       "      <th>...</th>\n",
       "      <th>FLUX-3188</th>\n",
       "      <th>FLUX-3189</th>\n",
       "      <th>FLUX-3190</th>\n",
       "      <th>FLUX-3191</th>\n",
       "      <th>FLUX-3192</th>\n",
       "      <th>FLUX-3193</th>\n",
       "      <th>FLUX-3194</th>\n",
       "      <th>FLUX-3195</th>\n",
       "      <th>FLUX-3196</th>\n",
       "      <th>FLUX-3197</th>\n",
       "    </tr>\n",
       "  </thead>\n",
       "  <tbody>\n",
       "    <tr>\n",
       "      <th>1</th>\n",
       "      <td>0.010309</td>\n",
       "      <td>0.009206</td>\n",
       "      <td>0.002208</td>\n",
       "      <td>-0.002964</td>\n",
       "      <td>-0.004345</td>\n",
       "      <td>-0.013699</td>\n",
       "      <td>-0.014849</td>\n",
       "      <td>-0.010575</td>\n",
       "      <td>-0.008775</td>\n",
       "      <td>-0.017594</td>\n",
       "      <td>...</td>\n",
       "      <td>-0.008575</td>\n",
       "      <td>-0.011220</td>\n",
       "      <td>-0.011220</td>\n",
       "      <td>0.002760</td>\n",
       "      <td>0.005335</td>\n",
       "      <td>0.010165</td>\n",
       "      <td>0.004319</td>\n",
       "      <td>0.006747</td>\n",
       "      <td>0.000558</td>\n",
       "      <td>-0.004343</td>\n",
       "    </tr>\n",
       "    <tr>\n",
       "      <th>2</th>\n",
       "      <td>-0.011373</td>\n",
       "      <td>-0.009896</td>\n",
       "      <td>-0.017124</td>\n",
       "      <td>-0.011727</td>\n",
       "      <td>-0.023200</td>\n",
       "      <td>-0.021299</td>\n",
       "      <td>-0.025318</td>\n",
       "      <td>-0.024961</td>\n",
       "      <td>-0.024563</td>\n",
       "      <td>-0.021465</td>\n",
       "      <td>...</td>\n",
       "      <td>-0.000959</td>\n",
       "      <td>-0.009422</td>\n",
       "      <td>-0.009422</td>\n",
       "      <td>-0.007281</td>\n",
       "      <td>-0.001422</td>\n",
       "      <td>0.000222</td>\n",
       "      <td>-0.003423</td>\n",
       "      <td>0.001890</td>\n",
       "      <td>0.004680</td>\n",
       "      <td>0.005830</td>\n",
       "    </tr>\n",
       "    <tr>\n",
       "      <th>3</th>\n",
       "      <td>0.033411</td>\n",
       "      <td>0.033617</td>\n",
       "      <td>0.032225</td>\n",
       "      <td>0.031170</td>\n",
       "      <td>0.028632</td>\n",
       "      <td>0.029231</td>\n",
       "      <td>0.029137</td>\n",
       "      <td>0.030510</td>\n",
       "      <td>0.027384</td>\n",
       "      <td>0.030384</td>\n",
       "      <td>...</td>\n",
       "      <td>-0.004497</td>\n",
       "      <td>0.000835</td>\n",
       "      <td>0.000835</td>\n",
       "      <td>-0.001875</td>\n",
       "      <td>-0.001310</td>\n",
       "      <td>0.000317</td>\n",
       "      <td>-0.000740</td>\n",
       "      <td>-0.001813</td>\n",
       "      <td>-0.004392</td>\n",
       "      <td>-0.006064</td>\n",
       "    </tr>\n",
       "    <tr>\n",
       "      <th>4</th>\n",
       "      <td>0.055889</td>\n",
       "      <td>0.059461</td>\n",
       "      <td>0.051752</td>\n",
       "      <td>0.051029</td>\n",
       "      <td>0.054386</td>\n",
       "      <td>0.053523</td>\n",
       "      <td>0.055172</td>\n",
       "      <td>0.053285</td>\n",
       "      <td>0.053475</td>\n",
       "      <td>0.055343</td>\n",
       "      <td>...</td>\n",
       "      <td>0.000977</td>\n",
       "      <td>-0.000638</td>\n",
       "      <td>-0.000638</td>\n",
       "      <td>0.005144</td>\n",
       "      <td>0.003428</td>\n",
       "      <td>-0.002169</td>\n",
       "      <td>-0.001501</td>\n",
       "      <td>-0.002963</td>\n",
       "      <td>-0.002970</td>\n",
       "      <td>0.002393</td>\n",
       "    </tr>\n",
       "    <tr>\n",
       "      <th>5</th>\n",
       "      <td>-0.048077</td>\n",
       "      <td>-0.048311</td>\n",
       "      <td>-0.048587</td>\n",
       "      <td>-0.047551</td>\n",
       "      <td>-0.045921</td>\n",
       "      <td>-0.044919</td>\n",
       "      <td>-0.043350</td>\n",
       "      <td>-0.044408</td>\n",
       "      <td>-0.042969</td>\n",
       "      <td>-0.042157</td>\n",
       "      <td>...</td>\n",
       "      <td>-0.025809</td>\n",
       "      <td>-0.017441</td>\n",
       "      <td>-0.017441</td>\n",
       "      <td>-0.015512</td>\n",
       "      <td>-0.019269</td>\n",
       "      <td>-0.019042</td>\n",
       "      <td>-0.017356</td>\n",
       "      <td>-0.016702</td>\n",
       "      <td>-0.017881</td>\n",
       "      <td>-0.022169</td>\n",
       "    </tr>\n",
       "  </tbody>\n",
       "</table>\n",
       "<p>5 rows × 3197 columns</p>\n",
       "</div>"
      ],
      "text/plain": [
       "     FLUX-1    FLUX-2    FLUX-3    FLUX-4    FLUX-5    FLUX-6    FLUX-7  \\\n",
       "1  0.010309  0.009206  0.002208 -0.002964 -0.004345 -0.013699 -0.014849   \n",
       "2 -0.011373 -0.009896 -0.017124 -0.011727 -0.023200 -0.021299 -0.025318   \n",
       "3  0.033411  0.033617  0.032225  0.031170  0.028632  0.029231  0.029137   \n",
       "4  0.055889  0.059461  0.051752  0.051029  0.054386  0.053523  0.055172   \n",
       "5 -0.048077 -0.048311 -0.048587 -0.047551 -0.045921 -0.044919 -0.043350   \n",
       "\n",
       "     FLUX-8    FLUX-9   FLUX-10    ...      FLUX-3188  FLUX-3189  FLUX-3190  \\\n",
       "1 -0.010575 -0.008775 -0.017594    ...      -0.008575  -0.011220  -0.011220   \n",
       "2 -0.024961 -0.024563 -0.021465    ...      -0.000959  -0.009422  -0.009422   \n",
       "3  0.030510  0.027384  0.030384    ...      -0.004497   0.000835   0.000835   \n",
       "4  0.053285  0.053475  0.055343    ...       0.000977  -0.000638  -0.000638   \n",
       "5 -0.044408 -0.042969 -0.042157    ...      -0.025809  -0.017441  -0.017441   \n",
       "\n",
       "   FLUX-3191  FLUX-3192  FLUX-3193  FLUX-3194  FLUX-3195  FLUX-3196  FLUX-3197  \n",
       "1   0.002760   0.005335   0.010165   0.004319   0.006747   0.000558  -0.004343  \n",
       "2  -0.007281  -0.001422   0.000222  -0.003423   0.001890   0.004680   0.005830  \n",
       "3  -0.001875  -0.001310   0.000317  -0.000740  -0.001813  -0.004392  -0.006064  \n",
       "4   0.005144   0.003428  -0.002169  -0.001501  -0.002963  -0.002970   0.002393  \n",
       "5  -0.015512  -0.019269  -0.019042  -0.017356  -0.016702  -0.017881  -0.022169  \n",
       "\n",
       "[5 rows x 3197 columns]"
      ]
     },
     "metadata": {},
     "output_type": "display_data"
    }
   ],
   "source": [
    "from sklearn.preprocessing import RobustScaler\n",
    "#scaler = RobustScaler().fit(data)\n",
    "log_data = pd.DataFrame(normalize(data), columns = data.keys(), index = data.index)\n",
    "#log_data = pd.DataFrame(scaler.transform(data), columns = data.keys(), index = data.index)\n",
    "display(log_data[labels ==1].head())"
   ]
  },
  {
   "cell_type": "code",
   "execution_count": null,
   "metadata": {
    "collapsed": false
   },
   "outputs": [],
   "source": [
    "fig = plt.figure(figsize=(20,40))\n",
    "x = np.array(range(3197))\n",
    "for i in range(3):\n",
    "    ax = fig.add_subplot(13,3,i+1)\n",
    "    ax.scatter(x,log_data.iloc[i,:])"
   ]
  },
  {
   "cell_type": "code",
   "execution_count": 19,
   "metadata": {
    "collapsed": false
   },
   "outputs": [
    {
     "data": {
      "text/plain": [
       "<matplotlib.axes._subplots.AxesSubplot at 0x13755b00>"
      ]
     },
     "execution_count": 19,
     "metadata": {},
     "output_type": "execute_result"
    },
    {
     "data": {
      "image/png": "[encoded data removed]",
      "text/plain": [
       "<matplotlib.figure.Figure at 0xc25fda0>"
      ]
     },
     "metadata": {},
     "output_type": "display_data"
    }
   ],
   "source": [
    "from pandas.tools.plotting import autocorrelation_plot\n",
    "fig = plt.figure(figsize=(8,8))\n",
    "autocorrelation_plot(log_data[:37])"
   ]
  },
  {
   "cell_type": "code",
   "execution_count": 20,
   "metadata": {
    "collapsed": false
   },
   "outputs": [],
   "source": [
    "# For each feature find the data points with extreme high or low values\n",
    "indices = []\n",
    "for feature in log_data.keys():\n",
    "    \n",
    "    # TODO: Calculate Q1 (25th percentile of the data) for the given feature\n",
    "    Q1 = np.percentile(log_data[feature], 25)\n",
    "    \n",
    "    # TODO: Calculate Q3 (75th percentile of the data) for the given feature\n",
    "    Q3 = np.percentile(log_data[feature], 75)\n",
    "    \n",
    "    # TODO: Use the interquartile range to calculate an outlier step (1.5 times the interquartile range)\n",
    "    step = ( Q3 - Q1 )*1.5\n",
    "    \n",
    "    # Display the outliers\n",
    "    #print \"Data points considered outliers for the feature '{}':\".format(feature)\n",
    "    #display(data[~((data[feature] >= Q1 - step) & (data[feature] <= Q3 + step))])\n",
    "    indices.extend(log_data[~((log_data[feature] >= Q1 - step) & (log_data[feature] <= Q3 + step))].index.tolist())\n",
    "\n",
    "    \n",
    "#look for indices that repeats at least twice\n",
    "from collections import Counter\n",
    "cnt = Counter()\n",
    "for index in indices:\n",
    "     cnt[index] += 1"
   ]
  },
  {
   "cell_type": "code",
   "execution_count": 21,
   "metadata": {
    "collapsed": false
   },
   "outputs": [
    {
     "name": "stdout",
     "output_type": "stream",
     "text": [
      "remove 1% of the outliers which is: 50 \n",
      "[(4187, 488), (4911, 459), (4469, 439), (3248, 433), (1678, 425), (3659, 418), (3953, 402), (2843, 388), (3065, 388), (4444, 384), (731, 381), (623, 375), (5080, 375), (2022, 372), (495, 370), (1689, 368), (1799, 366), (422, 363), (879, 361), (1443, 359), (5020, 359), (1912, 358), (3305, 358), (3949, 356), (68, 353), (1643, 353), (4177, 353), (4828, 353), (4421, 351), (894, 350), (47, 349), (3967, 348), (2779, 345), (2399, 344), (3459, 344), (1068, 341), (1379, 341), (3596, 339), (2149, 337), (2692, 336), (3032, 336), (43, 335), (2927, 333), (1656, 332), (2561, 332), (3525, 331), (5003, 331), (143, 330), (1787, 328), (3306, 326)]\n"
     ]
    }
   ],
   "source": [
    "OnePer = int(len(data['FLUX-1'])/100)\n",
    "print \"remove 1% of the outliers which is: {} \".format(OnePer)\n",
    "print cnt.most_common(OnePer)"
   ]
  },
  {
   "cell_type": "code",
   "execution_count": 22,
   "metadata": {
    "collapsed": false
   },
   "outputs": [],
   "source": [
    "#plot the most common outlier\n",
    "outliers = list(cnt.most_common(OnePer))\n",
    "#fig = plt.figure(figsize=(20,40))\n",
    "for i in range(OnePer):\n",
    "    outliers[i] = outliers[i][0]\n",
    "    #ax = fig.add_subplot(12,3,i+1)\n",
    "    #plt.title(labels[outliers[i]])\n",
    "    #ax.scatter(x,data.iloc[outliers[i],:])"
   ]
  },
  {
   "cell_type": "code",
   "execution_count": 23,
   "metadata": {
    "collapsed": false
   },
   "outputs": [],
   "source": [
    "#remove the 10 outliers\n",
    "good_data = log_data.drop(log_data.index[outliers]).reset_index(drop = True)\n",
    "good_lables = labels.drop(labels.index[outliers]).reset_index(drop = True)"
   ]
  },
  {
   "cell_type": "markdown",
   "metadata": {},
   "source": [
    "## class imbalance correction\n",
    "at this point we are ready to apply correction for class imbalance\n",
    "\n",
    "using SMOTETomek method combined with PCA at 12 features we have a recall of 20% on class 1\n",
    "#### TODO: add data visualisation for class imbalance "
   ]
  },
  {
   "cell_type": "code",
   "execution_count": 24,
   "metadata": {
    "collapsed": false
   },
   "outputs": [],
   "source": [
    "from imblearn.combine import SMOTETomek\n",
    "from imblearn.over_sampling import SMOTE\n",
    "sm = SMOTE(ratio = 0.017,random_state =42,k_neighbors =2,kind =  'svm')\n",
    "st = SMOTETomek(smote = sm, ratio= 0.017, random_state = 42)\n",
    "X_resampled, y_resampled = st.fit_sample(good_data, good_lables)"
   ]
  },
  {
   "cell_type": "code",
   "execution_count": 25,
   "metadata": {
    "collapsed": false
   },
   "outputs": [
    {
     "data": {
      "image/png": "[encoded data removed]",
      "text/plain": [
       "<matplotlib.figure.Figure at 0x190126a0>"
      ]
     },
     "metadata": {},
     "output_type": "display_data"
    }
   ],
   "source": [
    "hp.vs_class_imbalance(good_data, good_lables,X_resampled, y_resampled)"
   ]
  },
  {
   "cell_type": "code",
   "execution_count": 26,
   "metadata": {
    "collapsed": true
   },
   "outputs": [],
   "source": [
    "#train test split\n",
    "from sklearn.model_selection import train_test_split\n",
    "X_train, X_test, y_train, y_test = train_test_split(X_resampled, y_resampled,stratify =y_resampled,  test_size=0.4, random_state=42)\n",
    "#save data\n",
    "pickle.dump((X_train, y_train), open('SmoteTomek-Train.p', 'wb'))\n",
    "pickle.dump((X_test, y_test), open('SmoteTomek-Validation.p', 'wb'))"
   ]
  },
  {
   "cell_type": "markdown",
   "metadata": {},
   "source": [
    "## Checkpoint\n",
    "resampled data saved\n",
    "## Feature Transformation\n",
    "### application of PCA looking for best number of features\n",
    "explained variance on training set\n",
    "* Dimension 1     0.4829\n",
    "* Dimension 2     0.8346\n",
    "* Dimension 3     0.8847\n",
    "* Dimension 4     0.9226\n",
    "* Dimension 5     0.9438\n",
    "* Dimension 6     0.9620\n",
    "* Dimension 7     0.9772\n",
    "* Dimension 8     0.9830\n",
    "* Dimension 9     0.9855\n",
    "* Dimension 10    0.9874"
   ]
  },
  {
   "cell_type": "code",
   "execution_count": 27,
   "metadata": {
    "collapsed": false
   },
   "outputs": [],
   "source": [
    "# Load the Preprocessed data\n",
    "X_train, y_train = pickle.load(open('SmoteTomek-Train.p', mode='rb'))\n",
    "X_val, y_val = pickle.load(open('SmoteTomek-Validation.p', mode='rb'))\n",
    "# Load the Preprocessed data\n",
    "#X_train, y_train = pickle.load(open('EasyEnsemble-Train.p', mode='rb'))\n",
    "#X_val, y_val = pickle.load(open('EasyEnsemble-Validation.p', mode='rb'))"
   ]
  },
  {
   "cell_type": "code",
   "execution_count": 105,
   "metadata": {
    "collapsed": false
   },
   "outputs": [],
   "source": [
    "pca = PCA(n_components=100, svd_solver ='full',random_state = 42).fit(X_train)\n",
    "#from sklearn.decomposition import KernelPCA\n",
    "#pca = KernelPCA(n_components = 100, kernel='rbf', gamma =0.01).fit(X_train)\n",
    "X_trainPCA = pca.transform(X_train)\n",
    "X_testPCA = pca.transform(X_val)"
   ]
  },
  {
   "cell_type": "markdown",
   "metadata": {},
   "source": [
    "### Visualize Data\n",
    "since with 2 dimention we can describe 83.4% of the data we are able to plot a scatted of it"
   ]
  },
  {
   "cell_type": "code",
   "execution_count": 106,
   "metadata": {
    "collapsed": false
   },
   "outputs": [
    {
     "name": "stdout",
     "output_type": "stream",
     "text": [
      "0.66963369389\n"
     ]
    }
   ],
   "source": [
    "print sum(pca.explained_variance_ratio_ )\n",
    "#print pca.get_params"
   ]
  },
  {
   "cell_type": "code",
   "execution_count": 34,
   "metadata": {
    "collapsed": false
   },
   "outputs": [],
   "source": [
    "def train_predict(learner, sample_size, X_train, y_train, X_test, y_test): \n",
    "    '''\n",
    "    inputs:\n",
    "       - learner: the learning algorithm to be trained and predicted on\n",
    "       - sample_size: the size of samples (number) to be drawn from training set\n",
    "       - X_train: features training set\n",
    "       - y_train: income training set\n",
    "       - X_test: features testing set\n",
    "       - y_test: income testing set\n",
    "    ''' \n",
    "    from sklearn.metrics import fbeta_score, accuracy_score\n",
    "    results = {}\n",
    "    \n",
    "    #Fit the learner to the training data using slicing with 'sample_size'\n",
    "    start = time() # Get start time\n",
    "    learner = learner.fit(X_train[:sample_size],y_train[:sample_size])\n",
    "    end = time() # Get end time\n",
    "    results['train_time'] = end - start\n",
    "        \n",
    "    #Get the predictions on the test set,\n",
    "    #then get predictions on the first 300 training samples\n",
    "    start = time() # Get start time\n",
    "    predictions_test = learner.predict(X_test)\n",
    "    predictions_train = learner.predict(X_train[:300])\n",
    "    end = time() # Get end time\n",
    "    \n",
    "    #Calculate the total prediction time\n",
    "    results['pred_time'] = end - start\n",
    "            \n",
    "    #Compute accuracy on the first 300 training samples\n",
    "    results['acc_train'] = accuracy_score(y_train[:300],predictions_train)\n",
    "        \n",
    "    #Compute accuracy on test set\n",
    "    results['acc_test'] = accuracy_score(y_test,predictions_test)\n",
    "    \n",
    "    #Compute F-score on the the first 300 training samples\n",
    "    results['f_train'] = fbeta_score(y_train[:300],predictions_train,beta =1.5)\n",
    "        \n",
    "    #Compute F-score on the test set\n",
    "    results['f_test'] = fbeta_score(y_test,predictions_test,beta =1.5)\n",
    "       \n",
    "    # Success\n",
    "    print \"{} trained on {} samples.\".format(learner.__class__.__name__, sample_size)\n",
    "        \n",
    "    # Return the results\n",
    "    return results"
   ]
  },
  {
   "cell_type": "code",
   "execution_count": 35,
   "metadata": {
    "collapsed": false
   },
   "outputs": [],
   "source": [
    "def evaluate(results, accuracy, f1):\n",
    "    \"\"\"\n",
    "    Visualization code to display results of various learners.\n",
    "    \n",
    "    inputs:\n",
    "      - learners: a list of supervised learners\n",
    "      - stats: a list of dictionaries of the statistic results from 'train_predict()'\n",
    "      - accuracy: The score for the naive predictor\n",
    "      - f1: The score for the naive predictor\n",
    "    \"\"\"\n",
    "  \n",
    "    # Create figure\n",
    "    fig, ax = plt.subplots(2, 3, figsize = (11,7))\n",
    "\n",
    "    # Constants\n",
    "    bar_width = 0.3\n",
    "    colors = ['#A00000','#00A0A0','#00A000']\n",
    "    \n",
    "    # Super loop to plot four panels of data\n",
    "    for k, learner in enumerate(results.keys()):\n",
    "        for j, metric in enumerate(['train_time', 'acc_train', 'f_train', 'pred_time', 'acc_test', 'f_test']):\n",
    "            for i in np.arange(3):\n",
    "                \n",
    "                # Creative plot code\n",
    "                ax[j/3, j%3].bar(i+k*bar_width, results[learner][i][metric], width = bar_width, color = colors[k])\n",
    "                ax[j/3, j%3].set_xticks([0.45, 1.45, 2.45])\n",
    "                ax[j/3, j%3].set_xticklabels([\"1%\", \"10%\", \"100%\"])\n",
    "                ax[j/3, j%3].set_xlabel(\"Training Set Size\")\n",
    "                ax[j/3, j%3].set_xlim((-0.1, 3.0))\n",
    "    \n",
    "    # Add unique y-labels\n",
    "    ax[0, 0].set_ylabel(\"Time (in seconds)\")\n",
    "    ax[0, 1].set_ylabel(\"Accuracy Score\")\n",
    "    ax[0, 2].set_ylabel(\"F-score\")\n",
    "    ax[1, 0].set_ylabel(\"Time (in seconds)\")\n",
    "    ax[1, 1].set_ylabel(\"Accuracy Score\")\n",
    "    ax[1, 2].set_ylabel(\"F-score\")\n",
    "    \n",
    "    # Add titles\n",
    "    ax[0, 0].set_title(\"Model Training\")\n",
    "    ax[0, 1].set_title(\"Accuracy Score on Training Subset\")\n",
    "    ax[0, 2].set_title(\"F-score on Training Subset\")\n",
    "    ax[1, 0].set_title(\"Model Predicting\")\n",
    "    ax[1, 1].set_title(\"Accuracy Score on Testing Set\")\n",
    "    ax[1, 2].set_title(\"F-score on Testing Set\")\n",
    "    \n",
    "    # Add horizontal lines for naive predictors\n",
    "    ax[0, 1].axhline(y = accuracy, xmin = -0.1, xmax = 3.0, linewidth = 1, color = 'k', linestyle = 'dashed')\n",
    "    ax[1, 1].axhline(y = accuracy, xmin = -0.1, xmax = 3.0, linewidth = 1, color = 'k', linestyle = 'dashed')\n",
    "    ax[0, 2].axhline(y = f1, xmin = -0.1, xmax = 3.0, linewidth = 1, color = 'k', linestyle = 'dashed')\n",
    "    ax[1, 2].axhline(y = f1, xmin = -0.1, xmax = 3.0, linewidth = 1, color = 'k', linestyle = 'dashed')\n",
    "    \n",
    "    # Set y-limits for score panels\n",
    "    ax[0, 1].set_ylim((0, 1))\n",
    "    ax[0, 2].set_ylim((0, 1))\n",
    "    ax[1, 1].set_ylim((0, 1))\n",
    "    ax[1, 2].set_ylim((0, 1))\n",
    "\n",
    "    # Create patches for the legend\n",
    "    patches = []\n",
    "    for i, learner in enumerate(results.keys()):\n",
    "        patches.append(mpatches.Patch(color = colors[i], label = learner))\n",
    "    plt.legend(handles = patches, bbox_to_anchor = (-.80, 2.53), \\\n",
    "               loc = 'upper center', borderaxespad = 0., ncol = 3, fontsize = 'x-large')\n",
    "    \n",
    "    # Aesthetics\n",
    "    plt.suptitle(\"Performance Metrics for Three Supervised Learning Models\", fontsize = 16, y = 1.10)\n",
    "    plt.tight_layout()\n",
    "    plt.show()\n",
    "    \n"
   ]
  },
  {
   "cell_type": "code",
   "execution_count": 107,
   "metadata": {
    "collapsed": false
   },
   "outputs": [
    {
     "name": "stdout",
     "output_type": "stream",
     "text": [
      "RandomForestClassifier trained on 607 samples.\n",
      "RandomForestClassifier trained on 1214 samples.\n",
      "RandomForestClassifier trained on 3036 samples.\n",
      "GaussianNB trained on 607 samples.\n",
      "GaussianNB trained on 1214 samples.\n",
      "GaussianNB trained on 3036 samples.\n",
      "GradientBoostingClassifier trained on 607 samples.\n",
      "GradientBoostingClassifier trained on 1214 samples.\n",
      "GradientBoostingClassifier trained on 3036 samples.\n"
     ]
    },
    {
     "data": {
      "image/png": "[encoded data removed]",
      "text/plain": [
       "<matplotlib.figure.Figure at 0x16f32d30>"
      ]
     },
     "metadata": {},
     "output_type": "display_data"
    }
   ],
   "source": [
    "from sklearn.ensemble import RandomForestClassifier\n",
    "from sklearn.naive_bayes import GaussianNB\n",
    "from sklearn.svm import SVC\n",
    "from sklearn.ensemble import GradientBoostingClassifier\n",
    "\n",
    "#Initialize the three models\n",
    "clf_A = RandomForestClassifier(random_state = 42)\n",
    "clf_B = GaussianNB()\n",
    "clf_C = GradientBoostingClassifier(n_estimators = 100, max_depth= 7,min_impurity_split= 100000.0,random_state = 42)\n",
    "tot_training = X_trainPCA.shape[0]\n",
    "\n",
    "#Calculate the number of samples for 1%, 10%,100% of the training data\n",
    "samples_1 =   int(tot_training * 0.2)\n",
    "samples_10 =  int(tot_training * 0.4)\n",
    "samples_100 = int(tot_training * 1)\n",
    "\n",
    "# Collect results on the learners\n",
    "results = {}\n",
    "for clf in [clf_A, clf_B, clf_C]:\n",
    "    clf_name = clf.__class__.__name__\n",
    "    results[clf_name] = {}\n",
    "    for i, samples in enumerate([samples_1, samples_10, samples_100]):\n",
    "        results[clf_name][i] = \\\n",
    "        train_predict(clf, samples, X_trainPCA, y_train, X_testPCA, y_val)\n",
    "\n",
    "# Run metrics visualization for the three supervised learning models chosen\n",
    "evaluate(results, 0.3, 0.3)"
   ]
  },
  {
   "cell_type": "markdown",
   "metadata": {},
   "source": [
    "### Model Selection and optimisation\n"
   ]
  },
  {
   "cell_type": "markdown",
   "metadata": {},
   "source": [
    "### Observation\n",
    "Run the code below to see how the log-transformed sample data has changed after having a PCA transformation applied to it using only two dimensions. Observe how the values for the first two dimensions remains unchanged when compared to a PCA transformation in six dimensions."
   ]
  },
  {
   "cell_type": "code",
   "execution_count": 108,
   "metadata": {
    "collapsed": false
   },
   "outputs": [
    {
     "name": "stdout",
     "output_type": "stream",
     "text": [
      "                   pre       rec       spe        f1       geo       iba       sup\n",
      "\n",
      "          0       0.99      0.99      0.32      0.99      0.51      0.27      2000\n",
      "          1       0.26      0.32      0.99      0.29      0.51      0.24        25\n",
      "\n",
      "avg / total       0.98      0.98      0.33      0.98      0.51      0.27      2025\n",
      "\n"
     ]
    }
   ],
   "source": [
    "#from sklearn.metrics import classification_report\n",
    "from imblearn.metrics import classification_report_imbalanced\n",
    "y_pred = clf_B.predict(X_testPCA)\n",
    "print classification_report_imbalanced(y_test, y_pred)"
   ]
  },
  {
   "cell_type": "code",
   "execution_count": 72,
   "metadata": {
    "collapsed": true
   },
   "outputs": [],
   "source": [
    "def performance_metric(y_true, y_predict):\n",
    "    \"\"\" Calculates and returns the performance score between \n",
    "        true and predicted values based on the metric chosen. \"\"\"\n",
    "    # TODO: Calculate the performance score between 'y_true' and 'y_predict'\n",
    "    score = fbeta_score(y_true, y_predict,beta =1.5) \n",
    "    # Return the score\n",
    "    return score"
   ]
  },
  {
   "cell_type": "code",
   "execution_count": 70,
   "metadata": {
    "collapsed": false
   },
   "outputs": [
    {
     "name": "stderr",
     "output_type": "stream",
     "text": [
      "C:\\Users\\andre\\Anaconda2\\lib\\site-packages\\sklearn\\cross_validation.py:44: DeprecationWarning: This module was deprecated in version 0.18 in favor of the model_selection module into which all the refactored classes and functions are moved. Also note that the interface of the new CV iterators are different from that of this module. This module will be removed in 0.20.\n",
      "  \"This module will be removed in 0.20.\", DeprecationWarning)\n"
     ]
    }
   ],
   "source": [
    "from sklearn.metrics import make_scorer\n",
    "from sklearn.model_selection import GridSearchCV\n",
    "from sklearn.cross_validation import ShuffleSplit\n",
    "def fit_model(X, y):\n",
    "    \"\"\" Performs grid search over the 'max_depth' parameter for a \n",
    "        decision tree regressor trained on the input data [X, y]. \"\"\"    \n",
    "    \n",
    "    # Create cross-validation sets from the training data\n",
    "    cv_sets = ShuffleSplit(X.shape[0], n_iter = 10, test_size = 0.20, random_state = 42)\n",
    "\n",
    "    #params dictionary for grid search\n",
    "    ##test:\n",
    "    ##learning_rate: (0.1,0.08,0.01,0.5)n_estimators:(50,100,180,200,250)max_depth(3,4,5,6,7,8,10)\n",
    "    params = {'min_impurity_split': (1e05,1e-06)}\n",
    "\n",
    "    # TODO: Transform 'performance_metric' into a scoring function using 'make_scorer' \n",
    "    scoring_fnc = make_scorer(performance_metric)\n",
    "\n",
    "    # TODO: Create the grid search object\n",
    "    grid = GridSearchCV(clf_C,params,scoring = scoring_fnc,cv = cv_sets)\n",
    "\n",
    "    # Fit the grid search object to the data to compute the optimal model\n",
    "    grid = grid.fit(X, y)\n",
    "\n",
    "    # Return the optimal model after fitting the data\n",
    "    return grid.best_estimator_"
   ]
  },
  {
   "cell_type": "code",
   "execution_count": 73,
   "metadata": {
    "collapsed": false
   },
   "outputs": [
    {
     "name": "stdout",
     "output_type": "stream",
     "text": [
      "operation completed\n"
     ]
    }
   ],
   "source": [
    "# Fit the training data to the model using grid search\n",
    "#use all training data\n",
    "X_train_all = np.vstack([X_train,X_val])\n",
    "y_train_all = np.concatenate((y_train,y_val),axis=0)\n",
    "X_trainPCA = pca.transform(X_train_all)\n",
    "clf = fit_model(X_trainPCA, y_train_all)\n",
    "print 'operation completed'"
   ]
  },
  {
   "cell_type": "code",
   "execution_count": 74,
   "metadata": {
    "collapsed": false
   },
   "outputs": [
    {
     "data": {
      "text/plain": [
       "{'criterion': 'friedman_mse',\n",
       " 'init': None,\n",
       " 'learning_rate': 0.1,\n",
       " 'loss': 'deviance',\n",
       " 'max_depth': 7,\n",
       " 'max_features': None,\n",
       " 'max_leaf_nodes': None,\n",
       " 'min_impurity_split': 100000.0,\n",
       " 'min_samples_leaf': 1,\n",
       " 'min_samples_split': 2,\n",
       " 'min_weight_fraction_leaf': 0.0,\n",
       " 'n_estimators': 100,\n",
       " 'presort': 'auto',\n",
       " 'random_state': 42,\n",
       " 'subsample': 1.0,\n",
       " 'verbose': 0,\n",
       " 'warm_start': False}"
      ]
     },
     "metadata": {},
     "output_type": "display_data"
    },
    {
     "name": "stdout",
     "output_type": "stream",
     "text": [
      "                   pre       rec       spe        f1       geo       iba       sup\n",
      "\n",
      "          0       1.00      1.00      1.00      1.00      1.00      1.00      2000\n",
      "          1       1.00      1.00      1.00      1.00      1.00      1.00        25\n",
      "\n",
      "avg / total       1.00      1.00      1.00      1.00      1.00      1.00      2025\n",
      "\n"
     ]
    }
   ],
   "source": [
    "display(clf.get_params())\n",
    "y_pred = clf.predict(X_testPCA)\n",
    "print classification_report_imbalanced(y_test, y_pred)"
   ]
  },
  {
   "cell_type": "markdown",
   "metadata": {},
   "source": [
    "## loading testing data\n",
    "now load the test data and test on the classifier."
   ]
  },
  {
   "cell_type": "code",
   "execution_count": 75,
   "metadata": {
    "collapsed": false
   },
   "outputs": [],
   "source": [
    "# Load the kepler dataset\n",
    "Testdata = pd.read_csv(os.path.join(\"project_dataset\", 'exoTest.csv'),index_col=0)\n",
    "#    print \"kepler dataset has {} samples with {} features each.\".format(*data.shape)\n",
    "#except:\n",
    "#    print \"Dataset could not be loaded. Is the dataset missing?\""
   ]
  },
  {
   "cell_type": "code",
   "execution_count": 76,
   "metadata": {
    "collapsed": false
   },
   "outputs": [],
   "source": [
    "#create label array and drop it from features\n",
    "testlabels = Testdata.LABEL\n",
    "#labels = [1 if x == 2 else 0 for x in labels]\n",
    "testlabels.replace(1,0, inplace=True)\n",
    "testlabels.replace(2,1, inplace=True)\n",
    "Testdata.drop('LABEL',axis=1, inplace =True)"
   ]
  },
  {
   "cell_type": "markdown",
   "metadata": {},
   "source": [
    "## evaluation of the result"
   ]
  },
  {
   "cell_type": "code",
   "execution_count": 77,
   "metadata": {
    "collapsed": false
   },
   "outputs": [
    {
     "name": "stdout",
     "output_type": "stream",
     "text": [
      "                   pre       rec       spe        f1       geo       iba       sup\n",
      "\n",
      "          0       0.99      1.00      0.00      1.00      0.00      0.00       565\n",
      "          1       0.00      0.00      1.00      0.00      0.00      0.00         5\n",
      "\n",
      "avg / total       0.98      0.99      0.01      0.99      0.00      0.00       570\n",
      "\n",
      "[[565   0]\n",
      " [  5   0]]\n"
     ]
    }
   ],
   "source": [
    "from sklearn.metrics import confusion_matrix\n",
    "X_test = pca.transform(Testdata)\n",
    "y_pred = clf.predict(X_test)\n",
    "print classification_report_imbalanced(testlabels, y_pred)\n",
    "print confusion_matrix(testlabels, y_pred, labels = [0,1])"
   ]
  },
  {
   "cell_type": "code",
   "execution_count": null,
   "metadata": {
    "collapsed": true
   },
   "outputs": [],
   "source": []
  }
 ],
 "metadata": {
  "kernelspec": {
   "display_name": "Python 2",
   "language": "python",
   "name": "python2"
  },
  "language_info": {
   "codemirror_mode": {
    "name": "ipython",
    "version": 2
   },
   "file_extension": ".py",
   "mimetype": "text/x-python",
   "name": "python",
   "nbconvert_exporter": "python",
   "pygments_lexer": "ipython2",
   "version": "2.7.13"
  }
 },
 "nbformat": 4,
 "nbformat_minor": 0
}
